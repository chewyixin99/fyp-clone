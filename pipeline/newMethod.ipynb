{
 "cells": [
  {
   "cell_type": "code",
   "execution_count": 42,
   "metadata": {},
   "outputs": [],
   "source": [
    "import pandas as pd\n",
    "from datetime import datetime, timedelta\n",
    "import numpy as np\n",
    "import random\n",
    "import json\n",
    "import re\n",
    "\n",
    "# pd.set_option('display.max_columns', None)\n",
    "# pd.set_option('display.max_rows', None)"
   ]
  },
  {
   "cell_type": "markdown",
   "metadata": {},
   "source": [
    "# Helper Functions"
   ]
  },
  {
   "cell_type": "code",
   "execution_count": 43,
   "metadata": {},
   "outputs": [],
   "source": [
    "def viewOneTrip(df,tripID):\n",
    "    result = df[df[\"tripId\"] == tripID].sort_values(by=['vehicleTimestamp', 'vehicleStopSequence'])\n",
    "    return result[[\"tripId\",\"vehicleTimestamp\",\"vehicleCurrentStatus\", \"vehicleStopSequence\", \"vehicleStopID\"]]"
   ]
  },
  {
   "cell_type": "code",
   "execution_count": 44,
   "metadata": {},
   "outputs": [],
   "source": [
    "def get_timings(df, tripID, expectedNumSequence):\n",
    "    one_trip_df = viewOneTrip(df,tripID).copy()\n",
    "    one_trip_df.reset_index(drop=True,inplace=True)\n",
    "    one_trip_df2 = one_trip_df.groupby(\"vehicleStopSequence\")\n",
    "\n",
    "    counter = 1 # Starting sequence will be 1\n",
    "    timings = [] # Output\n",
    "    curStopArr = 0\n",
    "    prevStopDep = 0\n",
    "    \n",
    "    for stopSequence, group in one_trip_df2:\n",
    "        # This level deals with each stopSequece group as a whole. [Eg. All sequences from 1 to expectedNumSequence]\n",
    "\n",
    "        # Ignore if 0. There were some off cases where stopSequence = 0. Ignore\n",
    "        if stopSequence == 0: \n",
    "            continue\n",
    "        \n",
    "        # Add placeholder timestamps for missing sequences until counter matches the stopSequence. \n",
    "        # [Eg. Data only has stop sequence 20 to 30. This WHILE loop adds in [0,0] from 1 to 19]\n",
    "        while counter < stopSequence:\n",
    "            timings.append([0, 0])\n",
    "            counter += 1\n",
    "\n",
    "        for row_index, row in group.iterrows():\n",
    "            # This level deals with a individual sequenceGroup's entries. [Eg. All entries within stopSequence = 5]\n",
    "\n",
    "            # Stiutation 1: Only have one entry [Eg. stopSequence = 5 only have 1 entry]\n",
    "            if len(group) == 1:\n",
    "                # Status = IN_TRANSIT_TO, prevStopDep not set. Take the current StopSequence timestamp as the departure time of the previous stopSequence.\n",
    "                # [Eg. stopSequence = 5 timestamp is stopSequence 4 departure]\n",
    "                if row[\"vehicleStopSequence\"] == counter and row[\"vehicleCurrentStatus\"] == \"IN_TRANSIT_TO\" and prevStopDep == 0:\n",
    "                    prevStopDep = row[\"vehicleTimestamp\"]\n",
    "                    timings[stopSequence-2][1] = prevStopDep\n",
    "\n",
    "                # Status = STOPPED_AT, curStopArr not set. Take the current StopSequence timestamp as its arrival time.\n",
    "                if row[\"vehicleCurrentStatus\"] == \"STOPPED_AT\" and curStopArr == 0:\n",
    "                    curStopArr = row[\"vehicleTimestamp\"]\n",
    "\n",
    "            # Situation 2: Multiple entries [Eg. stopSequence = 5 have 10 entries]\n",
    "            else: \n",
    "                # Status = IN_TRANSIT_TO, prevStopDep not set. Continue is used here to take the current StopSequence first entry's timestamp as the departure time of the previous stopSequence.\n",
    "                # [Eg. stopSequence = 5 have 10 entries, take first timestamp as stopSequence = 4 departure]\n",
    "                if row[\"vehicleStopSequence\"] == counter and row[\"vehicleCurrentStatus\"] == \"IN_TRANSIT_TO\" and prevStopDep == 0:\n",
    "                    prevStopDep = row[\"vehicleTimestamp\"]\n",
    "                    timings[stopSequence-2][1] = prevStopDep\n",
    "                    continue\n",
    "\n",
    "                # Get last transit as pass by timing\n",
    "                if row[\"vehicleStopSequence\"] == counter and row[\"vehicleCurrentStatus\"] == \"IN_TRANSIT_TO\" and curStopArr == 0:\n",
    "                    curStopArr = 0\n",
    "\n",
    "                # Status = STOPPED_AT, curStopArr not set. Break is used here to take the current StopSequence first entry's timestamp as its arrival.\n",
    "                # [Eg. stopSequence = 5 have 10 entries, take first timestamp as its arrival]\n",
    "                elif row[\"vehicleCurrentStatus\"] == \"STOPPED_AT\" and curStopArr == 0:\n",
    "                    curStopArr = row[\"vehicleTimestamp\"]\n",
    "                    break\n",
    "        \n",
    "        # Reset the curStopArr & prevStopDep, increment the counter, append curStopArr for the current stopSequence.\n",
    "        # [Eg. Append the curStopArr and departure = 0 for stopSequence = 5]\n",
    "        if stopSequence <= expectedNumSequence:\n",
    "            timings.append([curStopArr,0])\n",
    "            curStopArr = 0\n",
    "            prevStopDep = 0\n",
    "            counter += 1\n",
    "\n",
    "    # Add placeholder timings for missing stopSequence until it hits expectedNumSequence\n",
    "    while len(timings) < expectedNumSequence:\n",
    "        timings.append([0, 0])\n",
    "\n",
    "    # Return the timings\n",
    "    return timings"
   ]
  },
  {
   "cell_type": "code",
   "execution_count": 45,
   "metadata": {},
   "outputs": [],
   "source": [
    "def getServicePollDate(file_path):\n",
    "\n",
    "    file_name = re.search(r'[^/\\\\]+$', file_path).group()\n",
    "\n",
    "    all_info = file_name.split(\"_\")\n",
    "    service = all_info[2]\n",
    "    poll_rate = all_info[3]\n",
    "    date = datetime.strptime(all_info[4].split(\".\")[0], '%d-%m-%Y')\n",
    "\n",
    "    return [service, poll_rate, date]\n",
    "\n",
    "def getTripTimingsByDirection(directedTripIds, expectedNumSequence):\n",
    "    timingArray = []\n",
    "    for tripId in directedTripIds:\n",
    "        timingArray.append(get_timings(tripId, expectedNumSequence))\n",
    "    return timingArray\n",
    "\n",
    "def distinguish_one_trip_data(df, tripID):\n",
    "    result = df[df[\"tripId\"] == tripID].sort_values(by=['vehicleTimestamp', 'vehicleStopSequence'])\n",
    "    return result[[\"tripId\",\"vehicleTimestamp\",\"vehicleCurrentStatus\", \"vehicleStopSequence\", \"vehicleStopID\"]]"
   ]
  },
  {
   "cell_type": "code",
   "execution_count": 46,
   "metadata": {},
   "outputs": [
    {
     "name": "stdout",
     "output_type": "stream",
     "text": [
      "Service is: 2\n",
      "Poll rate is: 15s\n",
      "Date is: 2023-10-09 00:00:00\n"
     ]
    }
   ],
   "source": [
    "# Read Stops.txt and csv\n",
    "stopsTxt = pd.read_csv(\"stops.txt\", delimiter='\\t')\n",
    "file_path = \"./raw_data/gtfs_data_2_15s_09-10-2023.csv\"\n",
    "# file_path = \"gtfs_data_2_15s_07-10-2023.csv\"\n",
    "\n",
    "\n",
    "orig_df = pd.read_csv(file_path)\n",
    "orig_df[\"vehicleTimestamp\"] = pd.to_datetime(orig_df[\"vehicleTimestamp\"], unit=\"s\")\n",
    "\n",
    "\n",
    "service_poll_date = getServicePollDate(file_path)\n",
    "service = service_poll_date[0]\n",
    "poll_rate = service_poll_date[1]\n",
    "date = service_poll_date[2]\n",
    "\n",
    "print(\"Service is:\", service)\n",
    "print(\"Poll rate is:\", poll_rate)\n",
    "print(\"Date is:\", date)"
   ]
  },
  {
   "cell_type": "code",
   "execution_count": 47,
   "metadata": {},
   "outputs": [
    {
     "name": "stderr",
     "output_type": "stream",
     "text": [
      "/var/folders/sm/795yv_kj01z2spgzwlq0syth0000gn/T/ipykernel_31548/1549847525.py:13: FutureWarning: The behavior of DataFrame concatenation with empty or all-NA entries is deprecated. In a future version, this will no longer exclude empty or all-NA columns when determining the result dtypes. To retain the old behavior, exclude the relevant entries before the concat operation.\n",
      "  sorted_df = pd.concat([sorted_df, sorted_group], ignore_index=True)\n"
     ]
    }
   ],
   "source": [
    "# Cleaning & Transforming #\n",
    "orig_df.drop([\"pippenId\", \"pippenCreatedAt\", \"pippenPollingRate\", \"tripStartTime\", \"tripStartDate\", \"tripRouteId\"], axis=1,inplace = True)\n",
    "orig_df[\"tripDirectionId\"] = np.where((orig_df[\"vehicleLabel\"] == \"FX2 To Portland\") | (orig_df[\"vehicleLabel\"] == \"FX2 To NW 5th & Hoyt\") | (orig_df[\"vehicleLabel\"] == \"FX2 To NW Irving & 5th\"), 1, 0)\n",
    "orig_df.drop_duplicates(inplace=True)\n",
    "orig_df = orig_df[orig_df.vehicleStopSequence != 0]\n",
    "orig_df.sort_values(by=['tripId', 'vehicleTimestamp'], inplace=True)\n",
    "\n",
    "# Create a new DataFrame to store the sorted results\n",
    "sorted_df = pd.DataFrame(columns=orig_df.columns)\n",
    "\n",
    "for trip_id, group in orig_df.groupby('tripId'):\n",
    "    sorted_group = group.sort_values(by='vehicleTimestamp', ascending=True)\n",
    "    sorted_df = pd.concat([sorted_df, sorted_group], ignore_index=True)\n",
    "\n",
    "# Reset the index of the sorted DataFrame\n",
    "sorted_df.reset_index(drop=True, inplace=True)"
   ]
  },
  {
   "cell_type": "code",
   "execution_count": 48,
   "metadata": {},
   "outputs": [
    {
     "name": "stdout",
     "output_type": "stream",
     "text": [
      "Total number of records in both (0 & 1) directions: 29878\n",
      "Total number of trips in both (0 & 1) directions: 171\n"
     ]
    }
   ],
   "source": [
    "# full_seq_dfs = orig_df.groupby('tripId').filter(lambda x: ((x.vehicleStopSequence.max() >= 42) & (x.vehicleStopSequence.min() <= 2)))\n",
    "full_seq_dfs = sorted_df.groupby('tripId').filter(lambda x: ((x.vehicleStopSequence.max() >= 42) & (x.vehicleStopSequence.min() <= 2)))\n",
    "print(\"Total number of records in both (0 & 1) directions:\",len(full_seq_dfs))\n",
    "print(\"Total number of trips in both (0 & 1) directions:\",len(full_seq_dfs[\"tripId\"].unique()))"
   ]
  },
  {
   "cell_type": "code",
   "execution_count": 49,
   "metadata": {},
   "outputs": [
    {
     "name": "stdout",
     "output_type": "stream",
     "text": [
      "Number of Trips in 0 direction: 85\n",
      "Number of Trips in 1 direction: 86\n"
     ]
    }
   ],
   "source": [
    "zeroTrips = full_seq_dfs[full_seq_dfs[\"tripDirectionId\"] == 0].reset_index(drop=True)\n",
    "oneTrips = full_seq_dfs[full_seq_dfs[\"tripDirectionId\"] == 1].reset_index(drop=True)\n",
    "\n",
    "zeroTripIDs = zeroTrips[\"tripId\"].unique()\n",
    "oneTripIDs = oneTrips[\"tripId\"].unique()\n",
    "\n",
    "print(\"Number of Trips in 0 direction:\",len(zeroTripIDs))\n",
    "print(\"Number of Trips in 1 direction:\",len(oneTripIDs))"
   ]
  },
  {
   "cell_type": "markdown",
   "metadata": {},
   "source": [
    "# Split data into 4 time periods"
   ]
  },
  {
   "cell_type": "code",
   "execution_count": 50,
   "metadata": {},
   "outputs": [],
   "source": [
    "def getUniqueTripIDs(subdf):\n",
    "    return subdf[\"tripId\"].unique()"
   ]
  },
  {
   "cell_type": "markdown",
   "metadata": {},
   "source": [
    "# Get Timings and Impute the missing Timings"
   ]
  },
  {
   "cell_type": "code",
   "execution_count": 51,
   "metadata": {},
   "outputs": [],
   "source": [
    "def fix_timing(timing):\n",
    "    for i in range(len(timing)):\n",
    "        departure = timing[i][1]\n",
    "        if departure == 0:\n",
    "            last_known_departure = timing[i - 1][1] if i > 0 else None\n",
    "            next_known_arrival = None\n",
    "            for j in range(i + 1, len(timing)):\n",
    "                next_arr = timing[j][0]\n",
    "                next_dep = timing[j][1]\n",
    "                if next_arr != 0:\n",
    "                    next_known_arrival = next_arr\n",
    "                    break\n",
    "                elif next_arr == 0 and next_dep != 0:\n",
    "                    next_known_arrival = next_dep\n",
    "                    break\n",
    "\n",
    "            # Fix for missing first stop departure\n",
    "            if i == 0:\n",
    "                if timing[i+1][0] != 0:\n",
    "                    timing[i][1] = timing[i+1][0] - timedelta(seconds = 30)\n",
    "                elif timing[i+1][1] != 0: \n",
    "                    timing[i][1] = timing[i+1][1] - timedelta(seconds = 30)\n",
    "                else:\n",
    "                    timing[i][1] = timing[i][0] + timedelta(seconds = 30)\n",
    "\n",
    "            # Fix for missing last stop arrival\n",
    "            if i == len(timing)-1:\n",
    "                if timing[i-1][1] != 0:\n",
    "                    timing[i][0] = timing[i-1][1] + timedelta(seconds = 30)\n",
    "\n",
    "            \n",
    "            if last_known_departure is not None and next_known_arrival is not None:\n",
    "                num_missing_stops = j - i\n",
    "                time_difference = (next_known_arrival - last_known_departure).total_seconds()\n",
    "                time_interval = timedelta(seconds=time_difference / (num_missing_stops + 1))\n",
    "\n",
    "                for k in range(i, j):\n",
    "                    if timing[k][1] == 0:\n",
    "                        last_known_departure += time_interval\n",
    "                        if timing[k][0]!= 0 and timing[k][0] > last_known_departure:\n",
    "                            difference = (timing[k][0] - last_known_departure).total_seconds()\n",
    "                            timing[k][1] = last_known_departure.replace(microsecond=0) + timedelta(seconds=difference)\n",
    "                        else:\n",
    "                            timing[k][1] = last_known_departure.replace(microsecond=0)"
   ]
  },
  {
   "cell_type": "code",
   "execution_count": 52,
   "metadata": {},
   "outputs": [],
   "source": [
    "def fix_direction_timings(all_trip_timings):\n",
    "    for each_trip_timings in all_trip_timings:\n",
    "        fix_timing(each_trip_timings)"
   ]
  },
  {
   "cell_type": "code",
   "execution_count": 53,
   "metadata": {},
   "outputs": [],
   "source": [
    "def direction_trip_timings(directedTrips, num_stops):\n",
    "    result = []\n",
    "    directedTripIds = getUniqueTripIDs(directedTrips)\n",
    "    for i in range(len(directedTripIds)):\n",
    "        result.append(get_timings(directedTrips, directedTripIds[i], num_stops))\n",
    "\n",
    "    return result"
   ]
  },
  {
   "cell_type": "code",
   "execution_count": 54,
   "metadata": {},
   "outputs": [],
   "source": [
    "zeroTimings = direction_trip_timings(zeroTrips,42)\n",
    "oneTimings = direction_trip_timings(oneTrips,42)"
   ]
  },
  {
   "cell_type": "code",
   "execution_count": null,
   "metadata": {},
   "outputs": [],
   "source": [
    "fix_direction_timings(zeroTimings)\n",
    "fix_direction_timings(oneTimings)"
   ]
  },
  {
   "cell_type": "markdown",
   "metadata": {},
   "source": [
    "# Get Interstation"
   ]
  },
  {
   "cell_type": "markdown",
   "metadata": {},
   "source": [
    "## Each trip"
   ]
  },
  {
   "cell_type": "code",
   "execution_count": null,
   "metadata": {},
   "outputs": [],
   "source": [
    "def get_interstation(tripsTimings):\n",
    "    result = []\n",
    "    \n",
    "    for i in range(len(tripsTimings)-1):\n",
    "        stopAArr = tripsTimings[i][0]\n",
    "        stopADep = tripsTimings[i][1]\n",
    "        stopBArr = tripsTimings[i+1][0]\n",
    "        stopBDep = tripsTimings[i+1][1]\n",
    "        \n",
    "        if stopBArr == 0 and stopBDep != 0:\n",
    "            stopBArr = stopBDep\n",
    "\n",
    "        if stopADep == 0 and stopAArr != 0:\n",
    "            stopADep = stopAArr + timedelta(seconds=30)\n",
    "\n",
    "        if stopADep == 0 and stopAArr == 0:\n",
    "            stopADep = stopBArr - timedelta(seconds=30)\n",
    "\n",
    "        if stopBArr == 0 and stopBDep == 0:\n",
    "            stopBArr = stopADep + timedelta(seconds=30)\n",
    "        \n",
    "        interstation = stopBArr - stopADep\n",
    "\n",
    "        result.append(int(interstation.total_seconds()))\n",
    "    return result"
   ]
  },
  {
   "cell_type": "markdown",
   "metadata": {},
   "source": [
    "## All trips"
   ]
  },
  {
   "cell_type": "code",
   "execution_count": null,
   "metadata": {},
   "outputs": [],
   "source": [
    "def direction_trips_interstation(directedTrips):\n",
    "    result = []\n",
    "    for each_trip in directedTrips:\n",
    "        each_trip_interstation = get_interstation(each_trip)\n",
    "        result.append(each_trip_interstation)\n",
    "    return result\n"
   ]
  },
  {
   "cell_type": "code",
   "execution_count": null,
   "metadata": {},
   "outputs": [],
   "source": [
    "zero_interstation = direction_trips_interstation(zeroTimings)\n",
    "one_interstation = direction_trips_interstation(oneTimings)"
   ]
  },
  {
   "cell_type": "markdown",
   "metadata": {},
   "source": [
    "# Get Arrivals"
   ]
  },
  {
   "cell_type": "code",
   "execution_count": null,
   "metadata": {},
   "outputs": [],
   "source": [
    "def get_arrivals(tripsTimings,date): # Get Arrival Times [Each stop, per trip]\n",
    "    result = []\n",
    "\n",
    "    for i in range(len(tripsTimings)): # Create as many empty list as there is in tripsTimings. Allows for easy append via index.\n",
    "        result.append([])\n",
    "\n",
    "    for j in range(len(tripsTimings)): # For each trip\n",
    "        for stop in tripsTimings[j]: # For each stop \n",
    "            stopArr = stop[0]\n",
    "            stopDep = stop[1]\n",
    "\n",
    "            if stopArr != 0: # Arrival time is present and is a datetime object.\n",
    "                result[j].append(int((stopArr - date).total_seconds()))\n",
    "\n",
    "            elif stopArr == 0 and stopDep != 0: # No arrival time, but have departure time and is a datetime object. Treat as bus pass by the stop.\n",
    "                result[j].append(int((stopDep - date).total_seconds()))\n",
    "\n",
    "            else:\n",
    "                result[j].append(0)\n",
    "\n",
    "    return result"
   ]
  },
  {
   "cell_type": "markdown",
   "metadata": {},
   "source": [
    "# For Output"
   ]
  },
  {
   "cell_type": "code",
   "execution_count": null,
   "metadata": {},
   "outputs": [],
   "source": [
    "def generate_arrival_rate(directedDF, num_stops, input_key_stops): \n",
    "    arrival_rate_list = []\n",
    "\n",
    "    stops_in_route = directedDF[\"vehicleStopID\"].unique()\n",
    "    for i in range(num_stops-1):\n",
    "        arr = 0\n",
    "\n",
    "        if stops_in_route[i] in input_key_stops:\n",
    "            arr += 0.05\n",
    "\n",
    "        if i <(num_stops//2):\n",
    "            arr += round(random.uniform(0.005, 0.03),3)\n",
    "        else:\n",
    "            arr += round(random.uniform(0.005, 0.049),3)\n",
    "\n",
    "        arrival_rate_list.append(arr)\n",
    "\n",
    "    arrival_rate_list.append(0)\n",
    "    return arrival_rate_list"
   ]
  },
  {
   "cell_type": "code",
   "execution_count": null,
   "metadata": {},
   "outputs": [],
   "source": [
    "def generate_alighting_percentage(directedDF, num_stops, input_key_stops):\n",
    "    alighting_percentage_list = []\n",
    "\n",
    "    stops_in_route = directedDF[\"vehicleStopID\"].unique()\n",
    "\n",
    "    alighting_percentage_list.append(0)\n",
    "\n",
    "    for i in range(num_stops-3):\n",
    "        a = 0\n",
    "\n",
    "        if stops_in_route[i] in input_key_stops:\n",
    "            a += 0.02\n",
    "\n",
    "        if i <(num_stops//2):\n",
    "            a += round(random.uniform(0, 0.6),3)\n",
    "        else:\n",
    "            a += round(random.uniform(0, 0.97),3)\n",
    "            \n",
    "        alighting_percentage_list.append(a)\n",
    "\n",
    "    alighting_percentage_list.append(1)\n",
    "\n",
    "    return alighting_percentage_list"
   ]
  },
  {
   "cell_type": "code",
   "execution_count": null,
   "metadata": {},
   "outputs": [],
   "source": [
    "def generate_initial_passengers(directedDF, num_stops, input_key_stops):\n",
    "    initial_passengers_list = []\n",
    "\n",
    "    stops_in_route = directedDF[\"vehicleStopID\"].unique()\n",
    "    for i in range(num_stops-1):\n",
    "        p = 0\n",
    "\n",
    "        if stops_in_route[i] in input_key_stops:\n",
    "            p += 4\n",
    "\n",
    "        if i <(num_stops//2):\n",
    "            p += random.randint(0, 6)\n",
    "        else:\n",
    "            p += random.randint(0, 4)\n",
    "            \n",
    "        initial_passengers_list.append(p)\n",
    "\n",
    "    initial_passengers_list.append(0)\n",
    "    return initial_passengers_list"
   ]
  },
  {
   "cell_type": "code",
   "execution_count": null,
   "metadata": {},
   "outputs": [],
   "source": [
    "def generate_weights(directedDF, num_stops, input_key_stops): \n",
    "    stop_sequence = 1\n",
    "    row = 0\n",
    "\n",
    "    weights_list = [0.5] * num_stops\n",
    "    for i in range(num_stops):\n",
    "        green = 1\n",
    "        while stop_sequence == int(directedDF[\"vehicleStopSequence\"][row]):\n",
    "            if int(directedDF[\"vehicleStopID\"][row]) in input_key_stops and green:\n",
    "                weights_list[stop_sequence-1] += 0.2\n",
    "                green = 0\n",
    "            if weights_list[stop_sequence-1] <=1 and directedDF[\"vehicleCurrentStatus\"][row] == \"STOPPED_AT\":\n",
    "                weights_list[stop_sequence-1] +=0.05\n",
    "            row+=1\n",
    "        stop_sequence +=1\n",
    "\n",
    "    return weights_list"
   ]
  },
  {
   "cell_type": "code",
   "execution_count": null,
   "metadata": {},
   "outputs": [],
   "source": [
    "def get_stop_info(directedDF, num_stops ,staticStopsFile, actualStopNameSeq, stops_to_ignore):\n",
    "    stopsTxt = pd.read_csv(staticStopsFile, delimiter='\\t')\n",
    "\n",
    "    bus_stops = directedDF[\"vehicleStopID\"].unique().astype(int).astype(str)\n",
    "\n",
    "    rand_coordinates_list = []\n",
    "    rand_stop_ids_list = []\n",
    "    rand_stop_names_list = []\n",
    "\n",
    "    for i in range(num_stops):\n",
    "        rand_coordinates_list.append([])\n",
    "\n",
    "    # Randomly Take\n",
    "    for idx, each_stop in enumerate(bus_stops):\n",
    "        for i in range(len(stopsTxt)):\n",
    "            row = stopsTxt[\"stop_id,stop_code,stop_name,tts_stop_name,stop_desc,stop_lat,stop_lon,zone_id,stop_url,location_type,parent_station,direction,position\"][i]\n",
    "            one_stop = row.split(\",\")\n",
    "            stop_id = str(one_stop[0])\n",
    "            stop_name = str(one_stop[2])\n",
    "\n",
    "            if stop_id in bus_stops and stop_id not in stops_to_ignore and each_stop == stop_id:\n",
    "                try:\n",
    "                    stop_location_lat = float(one_stop[5])\n",
    "                    stop_location_long = float(one_stop[6])\n",
    "                except ValueError:\n",
    "                    stop_location_lat = float(one_stop[6])\n",
    "                    stop_location_long = float(one_stop[7])                                     \n",
    "                \n",
    "                rand_coordinates_list[idx].append(stop_location_lat)\n",
    "                rand_coordinates_list[idx].append(stop_location_long)\n",
    "                rand_stop_ids_list.append(stop_id)\n",
    "                rand_stop_names_list.append(stop_name)\n",
    "\n",
    "    # Fix Randomness \n",
    "    coordinates_list = []\n",
    "    stop_ids_list = []\n",
    "    stop_names_list = []\n",
    "\n",
    "    for correctStopName in actualStopNameSeq:\n",
    "        for i in range(len(rand_stop_names_list)):\n",
    "            if correctStopName == rand_stop_names_list[i]:\n",
    "                coordinates_list.append(rand_coordinates_list[i])\n",
    "                stop_ids_list.append(rand_stop_ids_list[i])\n",
    "                stop_names_list.append(rand_stop_names_list[i])\n",
    "    \n",
    "    return coordinates_list, stop_ids_list, stop_names_list"
   ]
  },
  {
   "cell_type": "code",
   "execution_count": null,
   "metadata": {},
   "outputs": [],
   "source": [
    "def get_prev_dwell(firstTripTimings):\n",
    "    result = []\n",
    "    \n",
    "    for i in range(len(firstTripTimings)-1): # For each stop in a trip\n",
    "        stopArr = firstTripTimings[i][0]\n",
    "        stopDep = firstTripTimings[i][1]\n",
    "\n",
    "        # No arrival and departure time\n",
    "        if stopArr == 0 and stopDep == 0:\n",
    "            result.append(0)\n",
    "\n",
    "        # No arrival time, but have departure time and is a datetime object. Bus passed by = No dwell time\n",
    "        if stopArr == 0 and stopDep != 0:\n",
    "            result.append(0)\n",
    "\n",
    "        # Have both arrival and departure time and is a datetime object.\n",
    "        if stopArr != 0 and stopDep != 0:\n",
    "            dwell = stopDep - stopArr\n",
    "            result.append(int(dwell.total_seconds()))\n",
    "\n",
    "    return result"
   ]
  },
  {
   "cell_type": "code",
   "execution_count": null,
   "metadata": {},
   "outputs": [],
   "source": [
    "def get_prev_arrival(firstTripTimings):\n",
    "    result = []\n",
    "    for each_stop in firstTripTimings:\n",
    "        stopArr = each_stop[0]\n",
    "        stopDep = each_stop[1]\n",
    "\n",
    "        if stopArr != 0: # Arrival time is present and is a datetime object.\n",
    "            result.append(int((stopArr - date).total_seconds()))\n",
    "\n",
    "        elif stopArr == 0 and stopDep != 0: # No arrival time, but have departure time and is a datetime object. Treat as bus pass by the stop.\n",
    "            result.append(int((stopDep - date).total_seconds()))\n",
    "\n",
    "        else:\n",
    "            result.append(0)\n",
    "\n",
    "    return result"
   ]
  },
  {
   "cell_type": "code",
   "execution_count": null,
   "metadata": {},
   "outputs": [],
   "source": [
    "def generate_target_headway(num_trips, num_stops, target_headway):\n",
    "    result = []\n",
    "    for i in range(num_trips):\n",
    "        result.append([])\n",
    "        for j in range(num_stops):\n",
    "            result[i].append(target_headway)\n",
    "    return result\n",
    "\n"
   ]
  },
  {
   "cell_type": "code",
   "execution_count": null,
   "metadata": {},
   "outputs": [],
   "source": [
    "def get_bus_availability(directed_timings, date):\n",
    "    result = []\n",
    "\n",
    "    for i in range(len(directed_timings)): # For each trip\n",
    "        lastRecordIndex = len(directed_timings[i])-1\n",
    "        lastRecord = directed_timings[i][lastRecordIndex]\n",
    "        while True:\n",
    "            if lastRecord[1] != 0: # Last record departure is a datetime object.\n",
    "                result.append(int((lastRecord[1] - date).total_seconds()))\n",
    "                break\n",
    "            elif lastRecord[0] != 0: # Last record departure is a datetime object. Missing departure\n",
    "                result.append(int((lastRecord[0] - date).total_seconds()))\n",
    "                break\n",
    "\n",
    "            lastRecordIndex = lastRecordIndex-1\n",
    "            lastRecord = directed_timings[i][lastRecordIndex]\n",
    "\n",
    "    return result"
   ]
  },
  {
   "cell_type": "code",
   "execution_count": null,
   "metadata": {},
   "outputs": [],
   "source": [
    "def createOriginalDispatch(directedTimings, date):\n",
    "    dispatchList = []\n",
    "    result = []\n",
    "    for i in range(len(directedTimings)):\n",
    "        dispatch = directedTimings[i][0][1] + timedelta(seconds=random.randint(-120, 120))\n",
    "        dispatchList.append(dispatch)\n",
    "\n",
    "    for eachDispatch in dispatchList:\n",
    "        result.append(int((eachDispatch - date).total_seconds()))\n",
    "    return result"
   ]
  },
  {
   "cell_type": "code",
   "execution_count": null,
   "metadata": {},
   "outputs": [],
   "source": [
    "def createBusAvailabilities(num_trips, date):\n",
    "    result = [0] * num_trips\n",
    "    return result "
   ]
  },
  {
   "cell_type": "markdown",
   "metadata": {},
   "source": [
    "## Common Values"
   ]
  },
  {
   "cell_type": "code",
   "execution_count": null,
   "metadata": {},
   "outputs": [],
   "source": [
    "bus_capacity = 100\n",
    "boarding_duration = 2\n",
    "alighting_duration = 2\n",
    "max_allowed_deviation = 600\n",
    "target_headway = 800 # All 82 trips including Trip 0 takes 65000s, or about 800s between each bus\n",
    "penalty_coefficient = 10000"
   ]
  },
  {
   "cell_type": "markdown",
   "metadata": {},
   "source": [
    "## For Zero Bound Trips"
   ]
  },
  {
   "cell_type": "code",
   "execution_count": null,
   "metadata": {},
   "outputs": [],
   "source": [
    "zeroStopsSequence = pd.read_csv(\"./Scraper/zeroStops.csv\")\n",
    "zeroStopsNames = zeroStopsSequence[\"0\"].unique()\n",
    "zero_num_stops = len(zeroStopsNames)\n",
    "\n",
    "zero_stops_to_ignore = [\"0\", \"3007\"]\n",
    "zeroStopsInfo = get_stop_info(zeroTrips, zero_num_stops, \"stops.txt\", zeroStopsNames, zero_stops_to_ignore)"
   ]
  },
  {
   "cell_type": "code",
   "execution_count": null,
   "metadata": {},
   "outputs": [],
   "source": [
    "zero_num_trips = len(zeroTimings) - 4\n",
    "zero_original_dispatch_list = createOriginalDispatch(zeroTimings[4:],date)\n",
    "zero_prev_arrival_list = get_prev_arrival(zeroTimings[3])\n",
    "zero_prev_dwell_list = get_prev_dwell(zeroTimings[3])\n",
    "zero_bus_availability_list = createBusAvailabilities(zero_num_trips, date)\n",
    "zero_target_headway_2dlist = generate_target_headway(zero_num_trips, zero_num_stops, target_headway)\n",
    "zero_interstation_travel_2dlist = zero_interstation[4:]\n",
    "\n",
    "\n",
    "zero_input_key_stops = [9302, 7634, 1458, 1497, 1379, 1415, 8199, 14230]\n",
    "zero_weights_list = generate_weights(zeroTrips, zero_num_stops, zero_input_key_stops) \n",
    "zero_arrival_rate_list = generate_arrival_rate(zeroTrips, zero_num_stops, zero_input_key_stops)\n",
    "zero_initial_passengers_list = generate_initial_passengers(zeroTrips, zero_num_stops, zero_input_key_stops)\n",
    "zero_initial_passengers_list = generate_initial_passengers(zeroTrips, zero_num_stops, zero_input_key_stops)\n",
    "zero_alighting_percentage_list = generate_alighting_percentage(zeroTrips, zero_num_stops, zero_input_key_stops)\n",
    "\n",
    "zero_coordinates_list = zeroStopsInfo[0]\n",
    "zero_stop_ids_list = zeroStopsInfo[1]\n",
    "zero_stop_names_list = zeroStopsInfo[2]\n"
   ]
  },
  {
   "cell_type": "markdown",
   "metadata": {},
   "source": [
    "## For One Bound Trips"
   ]
  },
  {
   "cell_type": "code",
   "execution_count": null,
   "metadata": {},
   "outputs": [],
   "source": [
    "# len(oneTrips[\"tripId\"].unique())"
   ]
  },
  {
   "cell_type": "code",
   "execution_count": null,
   "metadata": {},
   "outputs": [],
   "source": [
    "# oneTrips.head()"
   ]
  },
  {
   "cell_type": "code",
   "execution_count": null,
   "metadata": {},
   "outputs": [],
   "source": [
    "# oneTrips.tail()"
   ]
  },
  {
   "cell_type": "code",
   "execution_count": null,
   "metadata": {},
   "outputs": [],
   "source": [
    "# oneStopsSequence = pd.read_csv(\"oneStops.csv\")\n",
    "# oneStopsNames = oneStopsSequence[\"1\"].unique()\n",
    "# one_num_stops = len(oneStopsNames) - 1\n",
    "\n",
    "# one_stops_to_ignore = [\"9302\", \"3007\"]\n",
    "# oneStopsInfo = get_stop_info(oneTrips, one_num_stops, \"stops.txt\",oneStopsNames, one_stops_to_ignore)"
   ]
  },
  {
   "cell_type": "code",
   "execution_count": null,
   "metadata": {},
   "outputs": [],
   "source": [
    "# for i in range(len(zeroTimings)):\n",
    "#     print(10*\"#\",\"Trip number\",i+1,10*\"#\")\n",
    "#     for j in range(len(zeroTimings[i])):\n",
    "#         arr = zeroTimings[i][j][0]\n",
    "#         dep = zeroTimings[i][j][1]\n",
    "#         print(j+1, \"[Arr]:\",arr,\"[Dep]\",dep)\n",
    "#     print(\"\\n\")"
   ]
  },
  {
   "cell_type": "code",
   "execution_count": null,
   "metadata": {},
   "outputs": [],
   "source": [
    "# one_num_trips = len(oneTimings) - 1\n",
    "# one_original_dispatch_list = createOriginalDispatch(oneTimings, date)\n",
    "# one_prev_arrival_list = get_prev_arrival(oneTimings[0])\n",
    "# one_prev_dwell_list = get_prev_dwell(oneTimings[0])\n",
    "# one_bus_availability_list = get_bus_availability(zeroTimings, date)\n",
    "# one_target_headway_2dlist = generate_target_headway(one_num_trips, one_num_stops, target_headway)\n",
    "# one_interstation_travel_2dlist = one_interstation[1:]\n",
    "\n",
    "\n",
    "# one_input_key_stops = [14232, 14233, 1416, 1381, 1499, 1459, 7800, 9302]\n",
    "# one_weights_list = generate_weights(oneTrips, one_num_stops, one_input_key_stops) \n",
    "# one_arrival_rate_list = generate_arrival_rate(oneTrips, one_num_stops, one_input_key_stops)\n",
    "# one_initial_passengers_list = generate_initial_passengers(oneTrips, one_num_stops, one_input_key_stops)\n",
    "# one_alighting_percentage_list = generate_alighting_percentage(oneTrips, one_num_stops, one_input_key_stops)  \n",
    "\n",
    "# one_coordinates_list = oneStopsInfo[0]\n",
    "# one_stop_ids_list = oneStopsInfo[1]\n",
    "# one_stop_names_list = oneStopsInfo[2]\n"
   ]
  },
  {
   "cell_type": "code",
   "execution_count": null,
   "metadata": {},
   "outputs": [],
   "source": [
    "def jsonOutput(num_trips, num_stops, bus_capacity, original_dispatch_list, coordinates_list, stop_ids_list, stop_names_list, prev_arrival_list, prev_dwell_list, arrival_rate_list, alighting_percentage_list, boarding_duration, alighting_duration, weights_list, bus_availability_list, initial_passengers_list, max_allowed_deviation, target_headway_2dlist, interstation_travel_2dlist):\n",
    "    output = {\n",
    "        \"num_trips\": num_trips,\n",
    "        \"num_stops\": num_stops,\n",
    "        \"bus_capacity\": bus_capacity,\n",
    "        \"original_dispatch_list\": original_dispatch_list,\n",
    "        \"coordinates_list\": coordinates_list,\n",
    "        \"stop_ids_list\": stop_ids_list,\n",
    "        \"stop_names_list\": stop_names_list,\n",
    "        \"prev_arrival_list\": prev_arrival_list,\n",
    "        \"prev_dwell_list\": prev_dwell_list,\n",
    "        \"arrival_rate_list\": arrival_rate_list,\n",
    "        \"alighting_percentage_list\": alighting_percentage_list,\n",
    "        \"boarding_duration\": boarding_duration,\n",
    "        \"alighting_duration\": alighting_duration,\n",
    "        \"weights_list\": weights_list, \n",
    "        \"bus_availability_list\": bus_availability_list,\n",
    "        \"initial_passengers_list\": initial_passengers_list,\n",
    "        \"max_allowed_deviation\": max_allowed_deviation,\n",
    "        \"penalty_coefficient\": penalty_coefficient,\n",
    "        \"target_headway_2dlist\": target_headway_2dlist,\n",
    "        \"interstation_travel_2dlist\": interstation_travel_2dlist \n",
    "    }\n",
    "\n",
    "    # Serializing json\n",
    "    json_object = json.dumps(output, indent=4)\n",
    "    \n",
    "    # Writing to input.json\n",
    "    with open(\"input.json\", \"w\") as outfile:\n",
    "        outfile.write(json_object)\n"
   ]
  },
  {
   "cell_type": "code",
   "execution_count": null,
   "metadata": {},
   "outputs": [],
   "source": [
    "\n",
    "jsonOutput(zero_num_trips, zero_num_stops, bus_capacity, zero_original_dispatch_list, zero_coordinates_list, zero_stop_ids_list, zero_stop_names_list, zero_prev_arrival_list, zero_prev_dwell_list, zero_arrival_rate_list, zero_alighting_percentage_list, boarding_duration, alighting_duration, zero_weights_list, zero_bus_availability_list, zero_initial_passengers_list, max_allowed_deviation, zero_target_headway_2dlist, zero_interstation_travel_2dlist)"
   ]
  }
 ],
 "metadata": {
  "kernelspec": {
   "display_name": "base",
   "language": "python",
   "name": "python3"
  },
  "language_info": {
   "codemirror_mode": {
    "name": "ipython",
    "version": 3
   },
   "file_extension": ".py",
   "mimetype": "text/x-python",
   "name": "python",
   "nbconvert_exporter": "python",
   "pygments_lexer": "ipython3",
   "version": "3.9.10"
  }
 },
 "nbformat": 4,
 "nbformat_minor": 2
}
