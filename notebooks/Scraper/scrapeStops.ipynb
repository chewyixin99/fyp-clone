{
 "cells": [
  {
   "cell_type": "code",
   "execution_count": 178,
   "metadata": {},
   "outputs": [],
   "source": [
    "from selenium import webdriver\n",
    "from selenium.webdriver.support.ui import WebDriverWait\n",
    "from selenium.webdriver.support import expected_conditions as EC\n",
    "from selenium.webdriver.common.by import By\n",
    "from selenium.common.exceptions import NoSuchElementException\n",
    "from selenium.common.exceptions import TimeoutException\n",
    "from selenium.webdriver.chrome.service import Service\n",
    "import time\n",
    "import pandas as pd\n",
    "\n",
    "service = Service(\"./chromedriver\")\n",
    "options = webdriver.ChromeOptions()\n",
    "options.add_argument('--ignore-certificate-errors')\n",
    "options.add_argument('--incognito')\n",
    "# options.add_argument('--headless')\n",
    "options.add_argument(\"start-maximized\")"
   ]
  },
  {
   "cell_type": "code",
   "execution_count": 221,
   "metadata": {},
   "outputs": [],
   "source": [
    "url = \"https://trimet.org/home/route/2\"\n",
    "driver = webdriver.Chrome(service=service, options=options)\n",
    "driver.get(url)"
   ]
  },
  {
   "cell_type": "code",
   "execution_count": 222,
   "metadata": {},
   "outputs": [],
   "source": [
    "button_zero = driver.find_element(By.XPATH, '//*[@id=\"side-panel\"]/div/div/div/div[2]/div/div[2]/div/button[1]')\n",
    "button_one = driver.find_element(By.XPATH, '//*[@id=\"side-panel\"]/div/div/div/div[2]/div/div[2]/div/button[2]')"
   ]
  },
  {
   "cell_type": "code",
   "execution_count": 223,
   "metadata": {},
   "outputs": [],
   "source": [
    "def getInfo(list):\n",
    "    result = []\n",
    "    for item in list:\n",
    "        result.append(item.text)\n",
    "    return result\n",
    "        "
   ]
  },
  {
   "cell_type": "markdown",
   "metadata": {},
   "source": [
    "# Direction Zero"
   ]
  },
  {
   "cell_type": "code",
   "execution_count": 224,
   "metadata": {},
   "outputs": [],
   "source": [
    "button_zero.click()"
   ]
  },
  {
   "cell_type": "code",
   "execution_count": 225,
   "metadata": {},
   "outputs": [],
   "source": [
    "stopsListZero = driver.find_elements(By.CLASS_NAME, 'lnYcjj')"
   ]
  },
  {
   "cell_type": "code",
   "execution_count": 228,
   "metadata": {},
   "outputs": [],
   "source": [
    "stopListZeroName = getInfo(stopsListZero)"
   ]
  },
  {
   "cell_type": "markdown",
   "metadata": {},
   "source": [
    "# Direction One"
   ]
  },
  {
   "cell_type": "code",
   "execution_count": 229,
   "metadata": {},
   "outputs": [],
   "source": [
    "button_one.click()"
   ]
  },
  {
   "cell_type": "code",
   "execution_count": 230,
   "metadata": {},
   "outputs": [],
   "source": [
    "stopsListOne = driver.find_elements(By.CLASS_NAME, 'lnYcjj')\n"
   ]
  },
  {
   "cell_type": "code",
   "execution_count": 233,
   "metadata": {},
   "outputs": [],
   "source": [
    "stopListOneName = getInfo(stopsListOne)"
   ]
  },
  {
   "cell_type": "markdown",
   "metadata": {},
   "source": [
    "# Result"
   ]
  },
  {
   "cell_type": "code",
   "execution_count": 235,
   "metadata": {},
   "outputs": [
    {
     "data": {
      "text/plain": [
       "['NW 5th & Hoyt',\n",
       " 'NW 5th & Davis',\n",
       " 'SW 5th & Washington',\n",
       " 'SW 5th & Salmon',\n",
       " 'SW 5th & Columbia',\n",
       " 'SW 5th & Hall',\n",
       " '300 Block SW Lincoln',\n",
       " 'South Waterfront/S Moody',\n",
       " 'OMSI/SE Water',\n",
       " 'SE Division & 12th Ave',\n",
       " 'SE Division & 20th Ave',\n",
       " 'SE Division & 26th Ave',\n",
       " 'SE Division & 30th Ave',\n",
       " 'SE Division & 34th Ave',\n",
       " 'SE Division & Cesar Chavez Blvd',\n",
       " 'SE Division & 43rd Ave',\n",
       " 'SE Division & 51st Ave',\n",
       " 'SE Division & 60th Ave',\n",
       " 'SE Division & 68th Ave',\n",
       " 'SE Division & 76th Ave',\n",
       " 'SE Division & 82nd Ave',\n",
       " 'SE Division & 87th Ave',\n",
       " 'SE Division & SE Division St MAX Station',\n",
       " 'SE Division & 101st Ave',\n",
       " 'SE Division & 113th Ave',\n",
       " 'SE Division & 116th Ave',\n",
       " 'SE Division & 122nd Ave',\n",
       " 'SE Division & 130th Ave',\n",
       " 'SE Division & 136th Ave',\n",
       " '14200 Block SE Division',\n",
       " 'SE Division & 148th Ave',\n",
       " 'SE Division & 157th Ave',\n",
       " 'SE Division & 162nd Ave',\n",
       " 'SE Division & 168th Ave',\n",
       " 'SE Division & 174th Ave',\n",
       " '18200 Block SE Division',\n",
       " 'NW Division & Eastwood Ave',\n",
       " 'NW Division & Angeline Ave',\n",
       " 'NW Division & Overlook Ave',\n",
       " 'NW Division & Eastman Pkwy',\n",
       " 'Gresham Central Transit Center',\n",
       " 'Cleveland Ave Park & Ride']"
      ]
     },
     "execution_count": 235,
     "metadata": {},
     "output_type": "execute_result"
    }
   ],
   "source": [
    "stopListZeroName"
   ]
  },
  {
   "cell_type": "code",
   "execution_count": 234,
   "metadata": {},
   "outputs": [
    {
     "data": {
      "text/plain": [
       "['Cleveland Ave Park & Ride',\n",
       " 'Gresham Central Transit Center',\n",
       " 'Gresham City Hall Park & Ride',\n",
       " 'NW Division & Civic Dr',\n",
       " 'NW Division & Angeline Ave',\n",
       " 'NW Division & Eastwood Ave',\n",
       " '18000 Block SE Division',\n",
       " 'SE Division & 174th Ave',\n",
       " 'SE Division & 168th Ave',\n",
       " 'SE Division & 162nd Ave',\n",
       " 'SE Division & 157th Ave',\n",
       " 'SE Division & 148th Ave',\n",
       " 'SE Division & 142nd Ave',\n",
       " 'SE Division & 135th Ave',\n",
       " 'SE Division & 130th Ave',\n",
       " 'SE Division & 122nd Ave',\n",
       " 'SE Division & 116th Ave',\n",
       " '11100 Block SE Division',\n",
       " 'SE Division & 101st Ave',\n",
       " 'SE Division & SE Division St MAX Station',\n",
       " 'SE Division & 85th Ave',\n",
       " 'SE Division & 82nd Ave',\n",
       " 'SE Division & 75th Ave',\n",
       " 'SE Division & 67th Ave',\n",
       " 'SE Division & 59th Ave',\n",
       " 'SE Division & 51st Ave',\n",
       " 'SE Division & 43rd Ave',\n",
       " 'SE Division & Cesar Chavez Blvd',\n",
       " 'SE Division & 34th Ave',\n",
       " 'SE Division & 30th Ave',\n",
       " 'SE Division & 26th Ave',\n",
       " 'SE Division & 20th Ave',\n",
       " 'SE Division & 11th Ave',\n",
       " 'OMSI/SE Water',\n",
       " 'South Waterfront/S Moody',\n",
       " 'SW Lincoln & 1st',\n",
       " 'SW Hall & 5th',\n",
       " 'SW 6th & Columbia',\n",
       " 'SW 6th & Taylor',\n",
       " 'SW 6th & Harvey Milk',\n",
       " 'NW 6th & Flanders',\n",
       " 'NW Irving & 5th',\n",
       " 'NW 5th & Hoyt']"
      ]
     },
     "execution_count": 234,
     "metadata": {},
     "output_type": "execute_result"
    }
   ],
   "source": [
    "stopListOneName"
   ]
  },
  {
   "cell_type": "code",
   "execution_count": 239,
   "metadata": {},
   "outputs": [],
   "source": [
    "resultZero = pd.DataFrame({\n",
    "    \"0\": stopListZeroName\n",
    "})\n",
    "\n",
    "resultOne= pd.DataFrame({\n",
    "    \"1\": stopListOneName\n",
    "})\n",
    "\n",
    "resultZero.to_csv(\"zeroStops.csv\", index=False)\n",
    "resultOne.to_csv(\"oneStops.csv\", index=False)"
   ]
  },
  {
   "cell_type": "code",
   "execution_count": null,
   "metadata": {},
   "outputs": [],
   "source": []
  }
 ],
 "metadata": {
  "kernelspec": {
   "display_name": "base",
   "language": "python",
   "name": "python3"
  },
  "language_info": {
   "codemirror_mode": {
    "name": "ipython",
    "version": 3
   },
   "file_extension": ".py",
   "mimetype": "text/x-python",
   "name": "python",
   "nbconvert_exporter": "python",
   "pygments_lexer": "ipython3",
   "version": "3.9.12"
  }
 },
 "nbformat": 4,
 "nbformat_minor": 2
}
