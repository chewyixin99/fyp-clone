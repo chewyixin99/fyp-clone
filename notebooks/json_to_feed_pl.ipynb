{
 "cells": [
  {
   "cell_type": "code",
   "execution_count": 13,
   "metadata": {},
   "outputs": [
    {
     "name": "stdout",
     "output_type": "stream",
     "text": [
      "[(2.0, 2.0), (3.0, 3.0), (4.0, 4.0), (5.0, 5.0), (6.0, 6.0), (7.0, 7.0), (8.0, 8.0), (9.0, 9.0)]\n"
     ]
    }
   ],
   "source": [
    "import sys\n",
    "\n",
    "sys.path.append('..')\n",
    "from utils.coordinates import calculate_haversine_distance, split_line_between_coordinates\n",
    "import json\n",
    "\n",
    "print(split_line_between_coordinates((1, 1), (10, 10), 9))\n"
   ]
  },
  {
   "cell_type": "code",
   "execution_count": 14,
   "metadata": {},
   "outputs": [
    {
     "name": "stdout",
     "output_type": "stream",
     "text": [
      "{'num_trips': 5, 'num_stops': 5, 'original_dispatch_list': [600, 1200, 1800, 2400, 3000], 'coordinates_list': [[45.492786, -122.401855], [45.500866, -122.42799], [45.50276, -122.42709], [45.49802, -122.421265], [45.49153, -122.39884]], 'dwell_matrix': {'1,1': 0, '1,2': 11, '1,3': 30, '1,4': 28, '1,5': 0, '2,1': 0, '2,2': 53, '2,3': 233, '2,4': 109, '2,5': 0, '3,1': 0, '3,2': 61, '3,3': 221, '3,4': 95, '3,5': 0, '4,1': 0, '4,2': 53, '4,3': 189, '4,4': 81, '4,5': 0, '5,1': 0, '5,2': 67, '5,3': 257, '5,4': 115, '5,5': 0}, 'busload_matrix': {'1,1': 0, '1,2': 5, '1,3': 10, '1,4': 15, '1,5': 23, '2,1': 0, '2,2': 24, '2,3': 46, '2,4': 117, '2,5': 125, '3,1': 0, '3,2': 29, '3,3': 54, '3,4': 110, '3,5': 114, '4,1': 0, '4,2': 26, '4,3': 47, '4,4': 94, '4,5': 97, '5,1': 0, '5,2': 32, '5,3': 59, '5,4': 128, '5,5': 134}, 'arrival_matrix': {'1,2': 1096, '1,3': 1307, '1,4': 1637, '1,5': 2065, '2,2': 1863, '2,3': 2116, '2,4': 2649, '2,5': 3159, '3,2': 2783, '3,3': 3044, '3,4': 3565, '3,5': 4060, '4,2': 3600, '4,3': 3853, '4,4': 4342, '4,5': 4823, '5,2': 4600, '5,3': 4867, '5,4': 5423, '5,5': 5938}, 'dispatch_list': {'1': 996, '2': 1763, '3': 2683, '4': 3500, '5': 4500}}\n",
      "{'1': 0, '2': 2226.3518334838864, '3': 2448.3282730852443, '4': 3143.9553802974647, '5': 5034.982032340171}\n"
     ]
    }
   ],
   "source": [
    "input_file_path = \"../data/outputs/json/v1.1_output.json\"\n",
    "\n",
    "with open(input_file_path, \"r\") as f:\n",
    "        data = json.load(f)\n",
    "\n",
    "print(data)\n",
    "\n",
    "num_trips = data[\"num_trips\"]\n",
    "num_stops = data[\"num_stops\"]\n",
    "\n",
    "\n",
    "coordinates = {f\"{i+1}\": (data[\"coordinates_list\"][i][0], data[\"coordinates_list\"][i][1]) for i in range(num_trips)}\n",
    "\n",
    "\n",
    "cumulative_distances = {\n",
    "        \"1\": 0\n",
    "}\n",
    "\n",
    "for i in range(2, num_stops+1):\n",
    "        cumulative_distances[f\"{i}\"] = cumulative_distances[f\"{i-1}\"] + calculate_haversine_distance(coordinates[f\"{i-1}\"], coordinates[f\"{i}\"])\n",
    "\n",
    "print(cumulative_distances)"
   ]
  },
  {
   "cell_type": "code",
   "execution_count": 15,
   "metadata": {},
   "outputs": [
    {
     "name": "stderr",
     "output_type": "stream",
     "text": [
      "100%|██████████| 1000/1000 [00:05<00:00, 199.81it/s]\n"
     ]
    },
    {
     "data": {
      "text/html": [
       "<div><style>\n",
       ".dataframe > thead > tr > th,\n",
       ".dataframe > tbody > tr > td {\n",
       "  text-align: right;\n",
       "  white-space: pre-wrap;\n",
       "}\n",
       "</style>\n",
       "<small>shape: (6_608, 7)</small><table border=\"1\" class=\"dataframe\"><thead><tr><th>timestamp (in seconds)</th><th>bus_trip_no</th><th>status</th><th>bus_stop_no</th><th>latitude</th><th>longitude</th><th>distance</th></tr><tr><td>i64</td><td>i64</td><td>str</td><td>i64</td><td>f64</td><td>f64</td><td>f64</td></tr></thead><tbody><tr><td>996</td><td>1</td><td>&quot;DISPATCHED_FRO…</td><td>1</td><td>45.492786</td><td>-122.401855</td><td>0.0</td></tr><tr><td>1096</td><td>1</td><td>&quot;STOPPED_AT&quot;</td><td>2</td><td>45.500866</td><td>-122.42799</td><td>2226.351833</td></tr><tr><td>1307</td><td>1</td><td>&quot;STOPPED_AT&quot;</td><td>3</td><td>45.50276</td><td>-122.42709</td><td>2448.328273</td></tr><tr><td>1637</td><td>1</td><td>&quot;STOPPED_AT&quot;</td><td>4</td><td>45.49802</td><td>-122.421265</td><td>3143.95538</td></tr><tr><td>2065</td><td>1</td><td>&quot;STOPPED_AT&quot;</td><td>5</td><td>45.49153</td><td>-122.39884</td><td>5034.982032</td></tr><tr><td>997</td><td>1</td><td>&quot;TRANSIT_TO&quot;</td><td>2</td><td>45.492867</td><td>-122.402116</td><td>22.263518</td></tr><tr><td>998</td><td>1</td><td>&quot;TRANSIT_TO&quot;</td><td>2</td><td>45.492948</td><td>-122.402378</td><td>44.527037</td></tr><tr><td>999</td><td>1</td><td>&quot;TRANSIT_TO&quot;</td><td>2</td><td>45.493028</td><td>-122.402639</td><td>66.790555</td></tr><tr><td>1000</td><td>1</td><td>&quot;TRANSIT_TO&quot;</td><td>2</td><td>45.493109</td><td>-122.4029</td><td>89.054073</td></tr><tr><td>1001</td><td>1</td><td>&quot;TRANSIT_TO&quot;</td><td>2</td><td>45.49319</td><td>-122.403162</td><td>111.317592</td></tr><tr><td>1002</td><td>1</td><td>&quot;TRANSIT_TO&quot;</td><td>2</td><td>45.493271</td><td>-122.403423</td><td>133.58111</td></tr><tr><td>1003</td><td>1</td><td>&quot;TRANSIT_TO&quot;</td><td>2</td><td>45.493352</td><td>-122.403684</td><td>155.844628</td></tr><tr><td>&hellip;</td><td>&hellip;</td><td>&hellip;</td><td>&hellip;</td><td>&hellip;</td><td>&hellip;</td><td>&hellip;</td></tr><tr><td>5926</td><td>5</td><td>&quot;TRANSIT_TO&quot;</td><td>5</td><td>45.49313</td><td>-122.40437</td><td>4568.651188</td></tr><tr><td>5927</td><td>5</td><td>&quot;TRANSIT_TO&quot;</td><td>5</td><td>45.493118</td><td>-122.404327</td><td>4572.323084</td></tr><tr><td>5928</td><td>5</td><td>&quot;TRANSIT_TO&quot;</td><td>5</td><td>45.493105</td><td>-122.404283</td><td>4575.994981</td></tr><tr><td>5929</td><td>5</td><td>&quot;TRANSIT_TO&quot;</td><td>5</td><td>45.493093</td><td>-122.404239</td><td>4579.666877</td></tr><tr><td>5930</td><td>5</td><td>&quot;TRANSIT_TO&quot;</td><td>5</td><td>45.49308</td><td>-122.404196</td><td>4583.338774</td></tr><tr><td>5931</td><td>5</td><td>&quot;TRANSIT_TO&quot;</td><td>5</td><td>45.493067</td><td>-122.404152</td><td>4587.01067</td></tr><tr><td>5932</td><td>5</td><td>&quot;TRANSIT_TO&quot;</td><td>5</td><td>45.493055</td><td>-122.404109</td><td>4590.682567</td></tr><tr><td>5933</td><td>5</td><td>&quot;TRANSIT_TO&quot;</td><td>5</td><td>45.493042</td><td>-122.404065</td><td>4594.354463</td></tr><tr><td>5934</td><td>5</td><td>&quot;TRANSIT_TO&quot;</td><td>5</td><td>45.49303</td><td>-122.404022</td><td>4598.026359</td></tr><tr><td>5935</td><td>5</td><td>&quot;TRANSIT_TO&quot;</td><td>5</td><td>45.493017</td><td>-122.403978</td><td>4601.698256</td></tr><tr><td>5936</td><td>5</td><td>&quot;TRANSIT_TO&quot;</td><td>5</td><td>45.493004</td><td>-122.403935</td><td>4605.370152</td></tr><tr><td>5937</td><td>5</td><td>&quot;TRANSIT_TO&quot;</td><td>5</td><td>45.492992</td><td>-122.403891</td><td>4609.042049</td></tr></tbody></table></div>"
      ],
      "text/plain": [
       "shape: (6_608, 7)\n",
       "┌───────────────┬─────────────┬──────────────┬─────────────┬───────────┬─────────────┬─────────────┐\n",
       "│ timestamp (in ┆ bus_trip_no ┆ status       ┆ bus_stop_no ┆ latitude  ┆ longitude   ┆ distance    │\n",
       "│ seconds)      ┆ ---         ┆ ---          ┆ ---         ┆ ---       ┆ ---         ┆ ---         │\n",
       "│ ---           ┆ i64         ┆ str          ┆ i64         ┆ f64       ┆ f64         ┆ f64         │\n",
       "│ i64           ┆             ┆              ┆             ┆           ┆             ┆             │\n",
       "╞═══════════════╪═════════════╪══════════════╪═════════════╪═══════════╪═════════════╪═════════════╡\n",
       "│ 996           ┆ 1           ┆ DISPATCHED_F ┆ 1           ┆ 45.492786 ┆ -122.401855 ┆ 0.0         │\n",
       "│               ┆             ┆ ROM          ┆             ┆           ┆             ┆             │\n",
       "│ 1096          ┆ 1           ┆ STOPPED_AT   ┆ 2           ┆ 45.500866 ┆ -122.42799  ┆ 2226.351833 │\n",
       "│ 1307          ┆ 1           ┆ STOPPED_AT   ┆ 3           ┆ 45.50276  ┆ -122.42709  ┆ 2448.328273 │\n",
       "│ 1637          ┆ 1           ┆ STOPPED_AT   ┆ 4           ┆ 45.49802  ┆ -122.421265 ┆ 3143.95538  │\n",
       "│ …             ┆ …           ┆ …            ┆ …           ┆ …         ┆ …           ┆ …           │\n",
       "│ 5934          ┆ 5           ┆ TRANSIT_TO   ┆ 5           ┆ 45.49303  ┆ -122.404022 ┆ 4598.026359 │\n",
       "│ 5935          ┆ 5           ┆ TRANSIT_TO   ┆ 5           ┆ 45.493017 ┆ -122.403978 ┆ 4601.698256 │\n",
       "│ 5936          ┆ 5           ┆ TRANSIT_TO   ┆ 5           ┆ 45.493004 ┆ -122.403935 ┆ 4605.370152 │\n",
       "│ 5937          ┆ 5           ┆ TRANSIT_TO   ┆ 5           ┆ 45.492992 ┆ -122.403891 ┆ 4609.042049 │\n",
       "└───────────────┴─────────────┴──────────────┴─────────────┴───────────┴─────────────┴─────────────┘"
      ]
     },
     "execution_count": 15,
     "metadata": {},
     "output_type": "execute_result"
    }
   ],
   "source": [
    "import polars as pl\n",
    "from tqdm import tqdm\n",
    "# pd.set_option(\"display.max_rows\", 20)\n",
    "\n",
    "POLLING_RATE = 1\n",
    "\n",
    "num_trips = 5\n",
    "num_stops = 5\n",
    "\n",
    "\n",
    "\n",
    "def initialise_dataframe(current_trip):\n",
    "\n",
    "    # Initialize empty lists for each column\n",
    "    timestamps = []\n",
    "    bus_trip_nos = []\n",
    "    statuses = []\n",
    "    bus_stop_nos = []\n",
    "    latitudes = []\n",
    "    longitudes = []\n",
    "    distances = []\n",
    "\n",
    "    # dispatch from the bus depot\n",
    "    timestamps.append(data[\"dispatch_list\"][f\"{current_trip}\"])\n",
    "    bus_trip_nos.append(current_trip)\n",
    "    statuses.append(\"DISPATCHED_FROM\")\n",
    "    bus_stop_nos.append(1)\n",
    "    latitudes.append(coordinates[f\"1\"][0])\n",
    "    longitudes.append(coordinates[f\"1\"][1])\n",
    "    distances.append(0)\n",
    "\n",
    "    # Iterate through the keys in the arrival_matrix (assuming it contains all necessary keys)\n",
    "    for key in data[\"arrival_matrix\"]:\n",
    "        # Split the key into trip number and stop number\n",
    "        trip_no, stop_no = map(int, key.split(','))\n",
    "\n",
    "        # Get the timestamp from the arrival_matrix\n",
    "        timestamp_seconds = data[\"arrival_matrix\"][key]\n",
    "\n",
    "        # Append data to respective lists for stops\n",
    "        if trip_no == current_trip:\n",
    "            timestamps.append(timestamp_seconds)\n",
    "            bus_trip_nos.append(trip_no)\n",
    "            statuses.append(\"STOPPED_AT\")\n",
    "            bus_stop_nos.append(stop_no)\n",
    "            latitudes.append(coordinates[f\"{stop_no}\"][0])\n",
    "            longitudes.append(coordinates[f\"{stop_no}\"][1])\n",
    "            distances.append(cumulative_distances[f\"{stop_no}\"])\n",
    "\n",
    "    timestamp_list = timestamps\n",
    "    for i in range(len(timestamp_list)-1): # timestamp_list[i] = every stop's timestamp\n",
    "        dwell_count = POLLING_RATE\n",
    "\n",
    "        num_intermediate_segments = timestamp_list[i+1] - timestamp_list[i]\n",
    "        # print(timestamp_list[i], timestamp_list[i+1], num_intermediate_segments)\n",
    "        segments = split_line_between_coordinates(\n",
    "            (coordinates[f\"{i+1}\"][0], coordinates[f\"{i+1}\"][1]),\n",
    "            (coordinates[f\"{i+2}\"][0], coordinates[f\"{i+2}\"][1]),\n",
    "            num_intermediate_segments\n",
    "            )\n",
    "\n",
    "        \n",
    "        interstation_distance = cumulative_distances[f\"{i+2}\"] - cumulative_distances[f\"{i+1}\"]\n",
    "        distance_per_timestep = interstation_distance / num_intermediate_segments\n",
    "\n",
    "        segment_count = 0\n",
    "        \n",
    "        for intermediate_time in range(timestamp_list[i]+1, (timestamp_list[i+1]), POLLING_RATE): #intermediate_time = timestamp at intermediates\n",
    "            if dwell_count <= data[\"dwell_matrix\"][f\"{current_trip},{i+1}\"]:\n",
    "                timestamps.append(intermediate_time)\n",
    "                bus_trip_nos.append(current_trip)\n",
    "                statuses.append(\"DWELL_AT\")\n",
    "                latitudes.append(coordinates[f\"{i+1}\"][0])\n",
    "                longitudes.append(coordinates[f\"{i+1}\"][1])\n",
    "                bus_stop_nos.append(i+1)\n",
    "                distances.append(cumulative_distances[f\"{i+1}\"])\n",
    "                dwell_count += POLLING_RATE\n",
    "\n",
    "            else:\n",
    "                timestamps.append(intermediate_time)\n",
    "                bus_trip_nos.append(current_trip)\n",
    "                statuses.append(\"TRANSIT_TO\")\n",
    "                latitudes.append(segments[segment_count][0])\n",
    "                longitudes.append(segments[segment_count][1])\n",
    "                bus_stop_nos.append(i+2)\n",
    "                covered_distance = cumulative_distances[f\"{i+1}\"] + distance_per_timestep * (segment_count+1)\n",
    "                distances.append(covered_distance)  # Placeholder for NaN\n",
    "                segment_count += 1\n",
    "\n",
    "    # Create a DataFrame from the lists\n",
    "    df = pl.DataFrame({\n",
    "        \"timestamp (in seconds)\": timestamps,\n",
    "        \"bus_trip_no\": bus_trip_nos,\n",
    "        \"status\": statuses,\n",
    "        \"bus_stop_no\": bus_stop_nos,\n",
    "        \"latitude\": latitudes,\n",
    "        \"longitude\": longitudes,\n",
    "        \"distance\": distances\n",
    "    })\n",
    "\n",
    "    return df\n",
    "\n",
    "for i in tqdm(range(1000)):\n",
    "    dataframes_list = []\n",
    "    for trip in range(1, num_trips+1):\n",
    "        dataframes_list.append(initialise_dataframe(trip))\n",
    "        \n",
    "    df = pl.concat(dataframes_list)\n",
    "\n",
    "\n",
    "\n",
    "# Print the resulting DataFrame\n",
    "df"
   ]
  },
  {
   "cell_type": "code",
   "execution_count": 16,
   "metadata": {},
   "outputs": [
    {
     "data": {
      "text/html": [
       "<div><style>\n",
       ".dataframe > thead > tr > th,\n",
       ".dataframe > tbody > tr > td {\n",
       "  text-align: right;\n",
       "  white-space: pre-wrap;\n",
       "}\n",
       "</style>\n",
       "<small>shape: (6_608, 7)</small><table border=\"1\" class=\"dataframe\"><thead><tr><th>timestamp (in seconds)</th><th>bus_trip_no</th><th>status</th><th>bus_stop_no</th><th>latitude</th><th>longitude</th><th>distance</th></tr><tr><td>i64</td><td>i64</td><td>str</td><td>i64</td><td>f64</td><td>f64</td><td>f64</td></tr></thead><tbody><tr><td>996</td><td>1</td><td>&quot;DISPATCHED_FRO…</td><td>1</td><td>45.492786</td><td>-122.401855</td><td>0.0</td></tr><tr><td>997</td><td>1</td><td>&quot;TRANSIT_TO&quot;</td><td>2</td><td>45.492867</td><td>-122.402116</td><td>22.263518</td></tr><tr><td>998</td><td>1</td><td>&quot;TRANSIT_TO&quot;</td><td>2</td><td>45.492948</td><td>-122.402378</td><td>44.527037</td></tr><tr><td>999</td><td>1</td><td>&quot;TRANSIT_TO&quot;</td><td>2</td><td>45.493028</td><td>-122.402639</td><td>66.790555</td></tr><tr><td>1000</td><td>1</td><td>&quot;TRANSIT_TO&quot;</td><td>2</td><td>45.493109</td><td>-122.4029</td><td>89.054073</td></tr><tr><td>1001</td><td>1</td><td>&quot;TRANSIT_TO&quot;</td><td>2</td><td>45.49319</td><td>-122.403162</td><td>111.317592</td></tr><tr><td>1002</td><td>1</td><td>&quot;TRANSIT_TO&quot;</td><td>2</td><td>45.493271</td><td>-122.403423</td><td>133.58111</td></tr><tr><td>1003</td><td>1</td><td>&quot;TRANSIT_TO&quot;</td><td>2</td><td>45.493352</td><td>-122.403684</td><td>155.844628</td></tr><tr><td>1004</td><td>1</td><td>&quot;TRANSIT_TO&quot;</td><td>2</td><td>45.493432</td><td>-122.403946</td><td>178.108147</td></tr><tr><td>1005</td><td>1</td><td>&quot;TRANSIT_TO&quot;</td><td>2</td><td>45.493513</td><td>-122.404207</td><td>200.371665</td></tr><tr><td>1006</td><td>1</td><td>&quot;TRANSIT_TO&quot;</td><td>2</td><td>45.493594</td><td>-122.404468</td><td>222.635183</td></tr><tr><td>1007</td><td>1</td><td>&quot;TRANSIT_TO&quot;</td><td>2</td><td>45.493675</td><td>-122.40473</td><td>244.898702</td></tr><tr><td>&hellip;</td><td>&hellip;</td><td>&hellip;</td><td>&hellip;</td><td>&hellip;</td><td>&hellip;</td><td>&hellip;</td></tr><tr><td>5927</td><td>5</td><td>&quot;TRANSIT_TO&quot;</td><td>5</td><td>45.493118</td><td>-122.404327</td><td>4572.323084</td></tr><tr><td>5928</td><td>5</td><td>&quot;TRANSIT_TO&quot;</td><td>5</td><td>45.493105</td><td>-122.404283</td><td>4575.994981</td></tr><tr><td>5929</td><td>5</td><td>&quot;TRANSIT_TO&quot;</td><td>5</td><td>45.493093</td><td>-122.404239</td><td>4579.666877</td></tr><tr><td>5930</td><td>5</td><td>&quot;TRANSIT_TO&quot;</td><td>5</td><td>45.49308</td><td>-122.404196</td><td>4583.338774</td></tr><tr><td>5931</td><td>5</td><td>&quot;TRANSIT_TO&quot;</td><td>5</td><td>45.493067</td><td>-122.404152</td><td>4587.01067</td></tr><tr><td>5932</td><td>5</td><td>&quot;TRANSIT_TO&quot;</td><td>5</td><td>45.493055</td><td>-122.404109</td><td>4590.682567</td></tr><tr><td>5933</td><td>5</td><td>&quot;TRANSIT_TO&quot;</td><td>5</td><td>45.493042</td><td>-122.404065</td><td>4594.354463</td></tr><tr><td>5934</td><td>5</td><td>&quot;TRANSIT_TO&quot;</td><td>5</td><td>45.49303</td><td>-122.404022</td><td>4598.026359</td></tr><tr><td>5935</td><td>5</td><td>&quot;TRANSIT_TO&quot;</td><td>5</td><td>45.493017</td><td>-122.403978</td><td>4601.698256</td></tr><tr><td>5936</td><td>5</td><td>&quot;TRANSIT_TO&quot;</td><td>5</td><td>45.493004</td><td>-122.403935</td><td>4605.370152</td></tr><tr><td>5937</td><td>5</td><td>&quot;TRANSIT_TO&quot;</td><td>5</td><td>45.492992</td><td>-122.403891</td><td>4609.042049</td></tr><tr><td>5938</td><td>5</td><td>&quot;STOPPED_AT&quot;</td><td>5</td><td>45.49153</td><td>-122.39884</td><td>5034.982032</td></tr></tbody></table></div>"
      ],
      "text/plain": [
       "shape: (6_608, 7)\n",
       "┌───────────────┬─────────────┬──────────────┬─────────────┬───────────┬─────────────┬─────────────┐\n",
       "│ timestamp (in ┆ bus_trip_no ┆ status       ┆ bus_stop_no ┆ latitude  ┆ longitude   ┆ distance    │\n",
       "│ seconds)      ┆ ---         ┆ ---          ┆ ---         ┆ ---       ┆ ---         ┆ ---         │\n",
       "│ ---           ┆ i64         ┆ str          ┆ i64         ┆ f64       ┆ f64         ┆ f64         │\n",
       "│ i64           ┆             ┆              ┆             ┆           ┆             ┆             │\n",
       "╞═══════════════╪═════════════╪══════════════╪═════════════╪═══════════╪═════════════╪═════════════╡\n",
       "│ 996           ┆ 1           ┆ DISPATCHED_F ┆ 1           ┆ 45.492786 ┆ -122.401855 ┆ 0.0         │\n",
       "│               ┆             ┆ ROM          ┆             ┆           ┆             ┆             │\n",
       "│ 997           ┆ 1           ┆ TRANSIT_TO   ┆ 2           ┆ 45.492867 ┆ -122.402116 ┆ 22.263518   │\n",
       "│ 998           ┆ 1           ┆ TRANSIT_TO   ┆ 2           ┆ 45.492948 ┆ -122.402378 ┆ 44.527037   │\n",
       "│ 999           ┆ 1           ┆ TRANSIT_TO   ┆ 2           ┆ 45.493028 ┆ -122.402639 ┆ 66.790555   │\n",
       "│ …             ┆ …           ┆ …            ┆ …           ┆ …         ┆ …           ┆ …           │\n",
       "│ 5935          ┆ 5           ┆ TRANSIT_TO   ┆ 5           ┆ 45.493017 ┆ -122.403978 ┆ 4601.698256 │\n",
       "│ 5936          ┆ 5           ┆ TRANSIT_TO   ┆ 5           ┆ 45.493004 ┆ -122.403935 ┆ 4605.370152 │\n",
       "│ 5937          ┆ 5           ┆ TRANSIT_TO   ┆ 5           ┆ 45.492992 ┆ -122.403891 ┆ 4609.042049 │\n",
       "│ 5938          ┆ 5           ┆ STOPPED_AT   ┆ 5           ┆ 45.49153  ┆ -122.39884  ┆ 5034.982032 │\n",
       "└───────────────┴─────────────┴──────────────┴─────────────┴───────────┴─────────────┴─────────────┘"
      ]
     },
     "execution_count": 16,
     "metadata": {},
     "output_type": "execute_result"
    }
   ],
   "source": [
    "# pd.set_option(\"display.max_rows\", None)\n",
    "df = df.sort(by=\"timestamp (in seconds)\")\n",
    "# df = df.reset_index(drop=True)\n",
    "df"
   ]
  }
 ],
 "metadata": {
  "interpreter": {
   "hash": "fda15d86115f552d7de238d7ef8706a02a24b1f6e9b856b7402f25a58fdb951c"
  },
  "kernelspec": {
   "display_name": "Python 3.8.17 ('bus-lightyear')",
   "language": "python",
   "name": "python3"
  },
  "language_info": {
   "codemirror_mode": {
    "name": "ipython",
    "version": 3
   },
   "file_extension": ".py",
   "mimetype": "text/x-python",
   "name": "python",
   "nbconvert_exporter": "python",
   "pygments_lexer": "ipython3",
   "version": "3.8.17"
  },
  "orig_nbformat": 4
 },
 "nbformat": 4,
 "nbformat_minor": 2
}
