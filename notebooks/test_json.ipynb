{
 "cells": [
  {
   "cell_type": "code",
   "execution_count": 14,
   "metadata": {},
   "outputs": [],
   "source": [
    "import json\n",
    "input1 = open('input.json')\n",
    "input2 = open('input(new).json')\n",
    "data = json.load(input1)\n",
    "data2 = json.load(input2)"
   ]
  },
  {
   "cell_type": "code",
   "execution_count": 15,
   "metadata": {},
   "outputs": [],
   "source": [
    "def output(data):\n",
    "    print(\"num_trips:\", data[\"num_trips\"])\n",
    "    print(\"num_stops:\", data[\"num_stops\"])\n",
    "    print(\"bus_capacity:\", data[\"bus_capacity\"])\n",
    "    print(\"original_dispatch_list:\", len(data[\"original_dispatch_list\"]))\n",
    "    print(\"coordinates_list:\", len(data[\"coordinates_list\"]))\n",
    "    print(\"stop_ids_list:\", len(data[\"stop_ids_list\"]))\n",
    "    print(\"stop_names_list:\", len(data[\"stop_names_list\"]))\n",
    "\n",
    "    print(\"\\n\")\n",
    "    print(\"prev_arrival_list:\", len(data[\"prev_arrival_list\"]))\n",
    "    print(\"\\n\")\n",
    "\n",
    "    print(\"prev_dwell_list:\", len(data[\"prev_dwell_list\"]))\n",
    "    print(\"\\n\")\n",
    "\n",
    "    print(\"arrival_rate_list\", len(data[\"arrival_rate_list\"]))\n",
    "    print(\"alighting_percentage_list:\", len(data[\"alighting_percentage_list\"]))\n",
    "    print(\"boarding_duration:\", data[\"boarding_duration\"])\n",
    "    print(\"alighting_duration:\", data[\"alighting_duration\"])\n",
    "    print(\"weights_list:\", len(data[\"weights_list\"]))\n",
    "    print(\"bus_availability_list:\", len(data[\"bus_availability_list\"]))\n",
    "    print(\"initial_passengers_list:\", len(data[\"initial_passengers_list\"]))\n",
    "    print(\"\\n\")\n",
    "\n",
    "    print(\"Target Headway:\", len(data[\"target_headway_2dlist\"]))\n",
    "    for i in range(len(data[\"target_headway_2dlist\"])):\n",
    "        print(\"Trip\",i+1,\"Target Headways:\",len(data[\"target_headway_2dlist\"][i]))\n",
    "    print(\"\\n\")\n",
    "\n",
    "    print(\"Interstation:\", len(data[\"interstation_travel_2dlist\"]))\n",
    "    for i in range(len(data[\"interstation_travel_2dlist\"])):\n",
    "        print(\"Trip\",i+1,\"interstation:\",len(data[\"interstation_travel_2dlist\"][i]))"
   ]
  },
  {
   "cell_type": "code",
   "execution_count": 16,
   "metadata": {},
   "outputs": [
    {
     "name": "stdout",
     "output_type": "stream",
     "text": [
      "num_trips: 4\n",
      "num_stops: 42\n",
      "bus_capacity: 100\n",
      "original_dispatch_list: 4\n",
      "coordinates_list: 42\n",
      "stop_ids_list: 42\n",
      "stop_names_list: 42\n",
      "\n",
      "\n",
      "prev_arrival_list: 42\n",
      "\n",
      "\n",
      "prev_dwell_list: 41\n",
      "\n",
      "\n",
      "arrival_rate_list 42\n",
      "alighting_percentage_list: 41\n",
      "boarding_duration: 2\n",
      "alighting_duration: 2\n",
      "weights_list: 42\n",
      "bus_availability_list: 4\n",
      "initial_passengers_list: 42\n",
      "\n",
      "\n",
      "Target Headway: 4\n",
      "Trip 1 Target Headways: 41\n",
      "Trip 2 Target Headways: 41\n",
      "Trip 3 Target Headways: 41\n",
      "Trip 4 Target Headways: 41\n",
      "\n",
      "\n",
      "Interstation: 4\n",
      "Trip 1 interstation: 41\n",
      "Trip 2 interstation: 41\n",
      "Trip 3 interstation: 41\n",
      "Trip 4 interstation: 41\n"
     ]
    }
   ],
   "source": [
    "output(data)"
   ]
  },
  {
   "cell_type": "code",
   "execution_count": 17,
   "metadata": {},
   "outputs": [
    {
     "name": "stdout",
     "output_type": "stream",
     "text": [
      "num_trips: 6\n",
      "num_stops: 42\n",
      "bus_capacity: 100\n",
      "original_dispatch_list: 4\n",
      "coordinates_list: 42\n",
      "stop_ids_list: 41\n",
      "stop_names_list: 41\n",
      "\n",
      "\n",
      "prev_arrival_list: 42\n",
      "\n",
      "\n",
      "prev_dwell_list: 41\n",
      "\n",
      "\n",
      "arrival_rate_list 42\n",
      "alighting_percentage_list: 41\n",
      "boarding_duration: 2\n",
      "alighting_duration: 2\n",
      "weights_list: 42\n",
      "bus_availability_list: 6\n",
      "initial_passengers_list: 42\n",
      "\n",
      "\n",
      "Target Headway: 6\n",
      "Trip 1 Target Headways: 41\n",
      "Trip 2 Target Headways: 41\n",
      "Trip 3 Target Headways: 41\n",
      "Trip 4 Target Headways: 41\n",
      "Trip 5 Target Headways: 41\n",
      "Trip 6 Target Headways: 41\n",
      "\n",
      "\n",
      "Interstation: 6\n",
      "Trip 1 interstation: 41\n",
      "Trip 2 interstation: 41\n",
      "Trip 3 interstation: 41\n",
      "Trip 4 interstation: 41\n",
      "Trip 5 interstation: 41\n",
      "Trip 6 interstation: 41\n"
     ]
    }
   ],
   "source": [
    "output(data2)"
   ]
  },
  {
   "cell_type": "code",
   "execution_count": null,
   "metadata": {},
   "outputs": [],
   "source": []
  }
 ],
 "metadata": {
  "kernelspec": {
   "display_name": "base",
   "language": "python",
   "name": "python3"
  },
  "language_info": {
   "codemirror_mode": {
    "name": "ipython",
    "version": 3
   },
   "file_extension": ".py",
   "mimetype": "text/x-python",
   "name": "python",
   "nbconvert_exporter": "python",
   "pygments_lexer": "ipython3",
   "version": "3.9.12"
  },
  "orig_nbformat": 4
 },
 "nbformat": 4,
 "nbformat_minor": 2
}
